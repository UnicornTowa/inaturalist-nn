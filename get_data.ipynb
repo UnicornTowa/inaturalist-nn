{
 "cells": [
  {
   "cell_type": "markdown",
   "source": [
    "### Подготовка данных"
   ],
   "metadata": {
    "collapsed": false
   },
   "id": "c4d60f2ea4771c59"
  },
  {
   "cell_type": "markdown",
   "source": [
    "### Скачали 20к записей о пауках в Австралии и Океании."
   ],
   "metadata": {
    "collapsed": false
   },
   "id": "4ac7eba6a180261d"
  },
  {
   "cell_type": "code",
   "execution_count": 1,
   "id": "initial_id",
   "metadata": {
    "collapsed": true,
    "ExecuteTime": {
     "end_time": "2023-12-22T14:27:48.329961900Z",
     "start_time": "2023-12-22T14:27:47.653526900Z"
    }
   },
   "outputs": [],
   "source": [
    "import pandas as pd\n",
    "import numpy as np"
   ]
  },
  {
   "cell_type": "code",
   "execution_count": 2,
   "outputs": [
    {
     "data": {
      "text/plain": "              id                                          image_url  \\\n0         335236  https://inaturalist-open-data.s3.amazonaws.com...   \n1         391354  https://inaturalist-open-data.s3.amazonaws.com...   \n2         679239  https://inaturalist-open-data.s3.amazonaws.com...   \n3         944933  https://inaturalist-open-data.s3.amazonaws.com...   \n4         947100  https://static.inaturalist.org/photos/1183569/...   \n...          ...                                                ...   \n17766  194084487  https://inaturalist-open-data.s3.amazonaws.com...   \n17767  194086571  https://inaturalist-open-data.s3.amazonaws.com...   \n17768  194087099  https://inaturalist-open-data.s3.amazonaws.com...   \n17769  194087422  https://inaturalist-open-data.s3.amazonaws.com...   \n17770  194088802  https://inaturalist-open-data.s3.amazonaws.com...   \n\n         scientific_name iconic_taxon_name  taxon_id  \n0                Araneae         Arachnida   47118.0  \n1                Araneae         Arachnida   47118.0  \n2                Araneae         Arachnida   47118.0  \n3                Araneae         Arachnida   47118.0  \n4      Zygiella x-notata         Arachnida  155279.0  \n...                  ...               ...       ...  \n17766            Araneae         Arachnida   47118.0  \n17767            Araneae         Arachnida   47118.0  \n17768            Araneae         Arachnida   47118.0  \n17769            Araneae         Arachnida   47118.0  \n17770            Araneae         Arachnida   47118.0  \n\n[17771 rows x 5 columns]",
      "text/html": "<div>\n<style scoped>\n    .dataframe tbody tr th:only-of-type {\n        vertical-align: middle;\n    }\n\n    .dataframe tbody tr th {\n        vertical-align: top;\n    }\n\n    .dataframe thead th {\n        text-align: right;\n    }\n</style>\n<table border=\"1\" class=\"dataframe\">\n  <thead>\n    <tr style=\"text-align: right;\">\n      <th></th>\n      <th>id</th>\n      <th>image_url</th>\n      <th>scientific_name</th>\n      <th>iconic_taxon_name</th>\n      <th>taxon_id</th>\n    </tr>\n  </thead>\n  <tbody>\n    <tr>\n      <th>0</th>\n      <td>335236</td>\n      <td>https://inaturalist-open-data.s3.amazonaws.com...</td>\n      <td>Araneae</td>\n      <td>Arachnida</td>\n      <td>47118.0</td>\n    </tr>\n    <tr>\n      <th>1</th>\n      <td>391354</td>\n      <td>https://inaturalist-open-data.s3.amazonaws.com...</td>\n      <td>Araneae</td>\n      <td>Arachnida</td>\n      <td>47118.0</td>\n    </tr>\n    <tr>\n      <th>2</th>\n      <td>679239</td>\n      <td>https://inaturalist-open-data.s3.amazonaws.com...</td>\n      <td>Araneae</td>\n      <td>Arachnida</td>\n      <td>47118.0</td>\n    </tr>\n    <tr>\n      <th>3</th>\n      <td>944933</td>\n      <td>https://inaturalist-open-data.s3.amazonaws.com...</td>\n      <td>Araneae</td>\n      <td>Arachnida</td>\n      <td>47118.0</td>\n    </tr>\n    <tr>\n      <th>4</th>\n      <td>947100</td>\n      <td>https://static.inaturalist.org/photos/1183569/...</td>\n      <td>Zygiella x-notata</td>\n      <td>Arachnida</td>\n      <td>155279.0</td>\n    </tr>\n    <tr>\n      <th>...</th>\n      <td>...</td>\n      <td>...</td>\n      <td>...</td>\n      <td>...</td>\n      <td>...</td>\n    </tr>\n    <tr>\n      <th>17766</th>\n      <td>194084487</td>\n      <td>https://inaturalist-open-data.s3.amazonaws.com...</td>\n      <td>Araneae</td>\n      <td>Arachnida</td>\n      <td>47118.0</td>\n    </tr>\n    <tr>\n      <th>17767</th>\n      <td>194086571</td>\n      <td>https://inaturalist-open-data.s3.amazonaws.com...</td>\n      <td>Araneae</td>\n      <td>Arachnida</td>\n      <td>47118.0</td>\n    </tr>\n    <tr>\n      <th>17768</th>\n      <td>194087099</td>\n      <td>https://inaturalist-open-data.s3.amazonaws.com...</td>\n      <td>Araneae</td>\n      <td>Arachnida</td>\n      <td>47118.0</td>\n    </tr>\n    <tr>\n      <th>17769</th>\n      <td>194087422</td>\n      <td>https://inaturalist-open-data.s3.amazonaws.com...</td>\n      <td>Araneae</td>\n      <td>Arachnida</td>\n      <td>47118.0</td>\n    </tr>\n    <tr>\n      <th>17770</th>\n      <td>194088802</td>\n      <td>https://inaturalist-open-data.s3.amazonaws.com...</td>\n      <td>Araneae</td>\n      <td>Arachnida</td>\n      <td>47118.0</td>\n    </tr>\n  </tbody>\n</table>\n<p>17771 rows × 5 columns</p>\n</div>"
     },
     "execution_count": 2,
     "metadata": {},
     "output_type": "execute_result"
    }
   ],
   "source": [
    "df = pd.read_csv('observations-388825.csv')\n",
    "df"
   ],
   "metadata": {
    "collapsed": false,
    "ExecuteTime": {
     "end_time": "2023-12-22T14:27:48.408556600Z",
     "start_time": "2023-12-22T14:27:48.329961900Z"
    }
   },
   "id": "f82b4c06c2faa74a"
  },
  {
   "cell_type": "markdown",
   "source": [
    "### Классифицировать будем по taxon_id\n",
    "### Оказалось, большая часть набора это фотографии паучьих нор без самих пауков"
   ],
   "metadata": {
    "collapsed": false
   },
   "id": "41af5515df69f80f"
  },
  {
   "cell_type": "code",
   "execution_count": 3,
   "outputs": [
    {
     "data": {
      "text/plain": "taxon_id\n47118.0     11188\n623479.0      246\n155279.0      242\n534687.0      182\n48139.0       169\n            ...  \n153765.0        1\n830325.0        1\n802920.0        1\n47119.0         1\n825705.0        1\nName: count, Length: 622, dtype: int64"
     },
     "execution_count": 3,
     "metadata": {},
     "output_type": "execute_result"
    }
   ],
   "source": [
    "df['taxon_id'].value_counts()"
   ],
   "metadata": {
    "collapsed": false,
    "ExecuteTime": {
     "end_time": "2023-12-22T14:27:48.428278600Z",
     "start_time": "2023-12-22T14:27:48.408556600Z"
    }
   },
   "id": "8402198a37a4a167"
  },
  {
   "cell_type": "markdown",
   "source": [
    "### Дропаем паучьи норы и оставляем только пауков"
   ],
   "metadata": {
    "collapsed": false
   },
   "id": "753dc9fee6ff5c36"
  },
  {
   "cell_type": "code",
   "execution_count": 4,
   "outputs": [],
   "source": [
    "df = df[df['scientific_name'] != 'Araneae']"
   ],
   "metadata": {
    "collapsed": false,
    "ExecuteTime": {
     "end_time": "2023-12-22T14:27:48.440586800Z",
     "start_time": "2023-12-22T14:27:48.425640500Z"
    }
   },
   "id": "42a9e365226a6bfb"
  },
  {
   "cell_type": "code",
   "execution_count": 5,
   "outputs": [
    {
     "data": {
      "text/plain": "              id                                          image_url  \\\n4         947100  https://static.inaturalist.org/photos/1183569/...   \n5         947523  https://inaturalist-open-data.s3.amazonaws.com...   \n7         950295  https://inaturalist-open-data.s3.amazonaws.com...   \n15        971611  https://inaturalist-open-data.s3.amazonaws.com...   \n19        974942  https://inaturalist-open-data.s3.amazonaws.com...   \n...          ...                                                ...   \n17719  193673188  https://inaturalist-open-data.s3.amazonaws.com...   \n17721  193768168  https://inaturalist-open-data.s3.amazonaws.com...   \n17723  193774228  https://inaturalist-open-data.s3.amazonaws.com...   \n17756  194070860  https://inaturalist-open-data.s3.amazonaws.com...   \n17757  194070865  https://inaturalist-open-data.s3.amazonaws.com...   \n\n                scientific_name iconic_taxon_name   taxon_id  \n4             Zygiella x-notata         Arachnida   155279.0  \n5              Salsa fuliginata         Arachnida  1399033.0  \n7                     Araneidae         Arachnida    47535.0  \n15                     Clubiona         Arachnida   121774.0  \n19            Zygiella x-notata         Arachnida   155279.0  \n...                         ...               ...        ...  \n17719  Neosparassus calligaster         Arachnida   564915.0  \n17721                  Holconia         Arachnida   132844.0  \n17723       Leucauge dromedaria         Arachnida   368474.0  \n17756               Copa kabana         Arachnida   802683.0  \n17757                Lamponidae         Arachnida   333919.0  \n\n[6583 rows x 5 columns]",
      "text/html": "<div>\n<style scoped>\n    .dataframe tbody tr th:only-of-type {\n        vertical-align: middle;\n    }\n\n    .dataframe tbody tr th {\n        vertical-align: top;\n    }\n\n    .dataframe thead th {\n        text-align: right;\n    }\n</style>\n<table border=\"1\" class=\"dataframe\">\n  <thead>\n    <tr style=\"text-align: right;\">\n      <th></th>\n      <th>id</th>\n      <th>image_url</th>\n      <th>scientific_name</th>\n      <th>iconic_taxon_name</th>\n      <th>taxon_id</th>\n    </tr>\n  </thead>\n  <tbody>\n    <tr>\n      <th>4</th>\n      <td>947100</td>\n      <td>https://static.inaturalist.org/photos/1183569/...</td>\n      <td>Zygiella x-notata</td>\n      <td>Arachnida</td>\n      <td>155279.0</td>\n    </tr>\n    <tr>\n      <th>5</th>\n      <td>947523</td>\n      <td>https://inaturalist-open-data.s3.amazonaws.com...</td>\n      <td>Salsa fuliginata</td>\n      <td>Arachnida</td>\n      <td>1399033.0</td>\n    </tr>\n    <tr>\n      <th>7</th>\n      <td>950295</td>\n      <td>https://inaturalist-open-data.s3.amazonaws.com...</td>\n      <td>Araneidae</td>\n      <td>Arachnida</td>\n      <td>47535.0</td>\n    </tr>\n    <tr>\n      <th>15</th>\n      <td>971611</td>\n      <td>https://inaturalist-open-data.s3.amazonaws.com...</td>\n      <td>Clubiona</td>\n      <td>Arachnida</td>\n      <td>121774.0</td>\n    </tr>\n    <tr>\n      <th>19</th>\n      <td>974942</td>\n      <td>https://inaturalist-open-data.s3.amazonaws.com...</td>\n      <td>Zygiella x-notata</td>\n      <td>Arachnida</td>\n      <td>155279.0</td>\n    </tr>\n    <tr>\n      <th>...</th>\n      <td>...</td>\n      <td>...</td>\n      <td>...</td>\n      <td>...</td>\n      <td>...</td>\n    </tr>\n    <tr>\n      <th>17719</th>\n      <td>193673188</td>\n      <td>https://inaturalist-open-data.s3.amazonaws.com...</td>\n      <td>Neosparassus calligaster</td>\n      <td>Arachnida</td>\n      <td>564915.0</td>\n    </tr>\n    <tr>\n      <th>17721</th>\n      <td>193768168</td>\n      <td>https://inaturalist-open-data.s3.amazonaws.com...</td>\n      <td>Holconia</td>\n      <td>Arachnida</td>\n      <td>132844.0</td>\n    </tr>\n    <tr>\n      <th>17723</th>\n      <td>193774228</td>\n      <td>https://inaturalist-open-data.s3.amazonaws.com...</td>\n      <td>Leucauge dromedaria</td>\n      <td>Arachnida</td>\n      <td>368474.0</td>\n    </tr>\n    <tr>\n      <th>17756</th>\n      <td>194070860</td>\n      <td>https://inaturalist-open-data.s3.amazonaws.com...</td>\n      <td>Copa kabana</td>\n      <td>Arachnida</td>\n      <td>802683.0</td>\n    </tr>\n    <tr>\n      <th>17757</th>\n      <td>194070865</td>\n      <td>https://inaturalist-open-data.s3.amazonaws.com...</td>\n      <td>Lamponidae</td>\n      <td>Arachnida</td>\n      <td>333919.0</td>\n    </tr>\n  </tbody>\n</table>\n<p>6583 rows × 5 columns</p>\n</div>"
     },
     "execution_count": 5,
     "metadata": {},
     "output_type": "execute_result"
    }
   ],
   "source": [
    "df"
   ],
   "metadata": {
    "collapsed": false,
    "ExecuteTime": {
     "end_time": "2023-12-22T14:27:48.529412900Z",
     "start_time": "2023-12-22T14:27:48.434751800Z"
    }
   },
   "id": "425dd7ea1187ef"
  },
  {
   "cell_type": "code",
   "execution_count": 6,
   "outputs": [
    {
     "data": {
      "text/plain": "taxon_id\n623479.0     246\n155279.0     242\n534687.0     182\n48139.0      169\n1308421.0    128\n            ... \n153765.0       1\n830325.0       1\n802920.0       1\n47119.0        1\n825705.0       1\nName: count, Length: 621, dtype: int64"
     },
     "execution_count": 6,
     "metadata": {},
     "output_type": "execute_result"
    }
   ],
   "source": [
    "df['taxon_id'].value_counts()"
   ],
   "metadata": {
    "collapsed": false,
    "ExecuteTime": {
     "end_time": "2023-12-22T14:27:48.529412900Z",
     "start_time": "2023-12-22T14:27:48.448586800Z"
    }
   },
   "id": "9e55b3feae4457f0"
  },
  {
   "cell_type": "markdown",
   "source": [
    "### Оставим только виды, встречающиеся более 30 раз"
   ],
   "metadata": {
    "collapsed": false
   },
   "id": "e6192d536f42e0de"
  },
  {
   "cell_type": "code",
   "execution_count": 7,
   "outputs": [
    {
     "name": "stderr",
     "output_type": "stream",
     "text": [
      "C:\\Users\\tosha\\AppData\\Local\\Temp\\ipykernel_3944\\773398754.py:1: SettingWithCopyWarning: \n",
      "A value is trying to be set on a copy of a slice from a DataFrame.\n",
      "Try using .loc[row_indexer,col_indexer] = value instead\n",
      "\n",
      "See the caveats in the documentation: https://pandas.pydata.org/pandas-docs/stable/user_guide/indexing.html#returning-a-view-versus-a-copy\n",
      "  df['count'] = df.groupby('taxon_id')['taxon_id'].transform('count')\n"
     ]
    }
   ],
   "source": [
    "df['count'] = df.groupby('taxon_id')['taxon_id'].transform('count')"
   ],
   "metadata": {
    "collapsed": false,
    "ExecuteTime": {
     "end_time": "2023-12-22T14:27:48.550423400Z",
     "start_time": "2023-12-22T14:27:48.458903300Z"
    }
   },
   "id": "52e1d2dd6827ab89"
  },
  {
   "cell_type": "code",
   "execution_count": 8,
   "outputs": [
    {
     "data": {
      "text/plain": "              id                                          image_url  \\\n4         947100  https://static.inaturalist.org/photos/1183569/...   \n7         950295  https://inaturalist-open-data.s3.amazonaws.com...   \n15        971611  https://inaturalist-open-data.s3.amazonaws.com...   \n19        974942  https://inaturalist-open-data.s3.amazonaws.com...   \n20        984573  https://inaturalist-open-data.s3.amazonaws.com...   \n...          ...                                                ...   \n17711  193571423  https://inaturalist-open-data.s3.amazonaws.com...   \n17713  193574177  https://inaturalist-open-data.s3.amazonaws.com...   \n17714  193574357  https://inaturalist-open-data.s3.amazonaws.com...   \n17715  193575175  https://inaturalist-open-data.s3.amazonaws.com...   \n17756  194070860  https://inaturalist-open-data.s3.amazonaws.com...   \n\n         scientific_name iconic_taxon_name   taxon_id  \n4      Zygiella x-notata         Arachnida   155279.0  \n7              Araneidae         Arachnida    47535.0  \n15              Clubiona         Arachnida   121774.0  \n19     Zygiella x-notata         Arachnida   155279.0  \n20     Zygiella x-notata         Arachnida   155279.0  \n...                  ...               ...        ...  \n17711              Salsa         Arachnida  1399026.0  \n17713          Sidymella         Arachnida   202191.0  \n17714            Badumna         Arachnida    47133.0  \n17715            Badumna         Arachnida    47133.0  \n17756        Copa kabana         Arachnida   802683.0  \n\n[3516 rows x 5 columns]",
      "text/html": "<div>\n<style scoped>\n    .dataframe tbody tr th:only-of-type {\n        vertical-align: middle;\n    }\n\n    .dataframe tbody tr th {\n        vertical-align: top;\n    }\n\n    .dataframe thead th {\n        text-align: right;\n    }\n</style>\n<table border=\"1\" class=\"dataframe\">\n  <thead>\n    <tr style=\"text-align: right;\">\n      <th></th>\n      <th>id</th>\n      <th>image_url</th>\n      <th>scientific_name</th>\n      <th>iconic_taxon_name</th>\n      <th>taxon_id</th>\n    </tr>\n  </thead>\n  <tbody>\n    <tr>\n      <th>4</th>\n      <td>947100</td>\n      <td>https://static.inaturalist.org/photos/1183569/...</td>\n      <td>Zygiella x-notata</td>\n      <td>Arachnida</td>\n      <td>155279.0</td>\n    </tr>\n    <tr>\n      <th>7</th>\n      <td>950295</td>\n      <td>https://inaturalist-open-data.s3.amazonaws.com...</td>\n      <td>Araneidae</td>\n      <td>Arachnida</td>\n      <td>47535.0</td>\n    </tr>\n    <tr>\n      <th>15</th>\n      <td>971611</td>\n      <td>https://inaturalist-open-data.s3.amazonaws.com...</td>\n      <td>Clubiona</td>\n      <td>Arachnida</td>\n      <td>121774.0</td>\n    </tr>\n    <tr>\n      <th>19</th>\n      <td>974942</td>\n      <td>https://inaturalist-open-data.s3.amazonaws.com...</td>\n      <td>Zygiella x-notata</td>\n      <td>Arachnida</td>\n      <td>155279.0</td>\n    </tr>\n    <tr>\n      <th>20</th>\n      <td>984573</td>\n      <td>https://inaturalist-open-data.s3.amazonaws.com...</td>\n      <td>Zygiella x-notata</td>\n      <td>Arachnida</td>\n      <td>155279.0</td>\n    </tr>\n    <tr>\n      <th>...</th>\n      <td>...</td>\n      <td>...</td>\n      <td>...</td>\n      <td>...</td>\n      <td>...</td>\n    </tr>\n    <tr>\n      <th>17711</th>\n      <td>193571423</td>\n      <td>https://inaturalist-open-data.s3.amazonaws.com...</td>\n      <td>Salsa</td>\n      <td>Arachnida</td>\n      <td>1399026.0</td>\n    </tr>\n    <tr>\n      <th>17713</th>\n      <td>193574177</td>\n      <td>https://inaturalist-open-data.s3.amazonaws.com...</td>\n      <td>Sidymella</td>\n      <td>Arachnida</td>\n      <td>202191.0</td>\n    </tr>\n    <tr>\n      <th>17714</th>\n      <td>193574357</td>\n      <td>https://inaturalist-open-data.s3.amazonaws.com...</td>\n      <td>Badumna</td>\n      <td>Arachnida</td>\n      <td>47133.0</td>\n    </tr>\n    <tr>\n      <th>17715</th>\n      <td>193575175</td>\n      <td>https://inaturalist-open-data.s3.amazonaws.com...</td>\n      <td>Badumna</td>\n      <td>Arachnida</td>\n      <td>47133.0</td>\n    </tr>\n    <tr>\n      <th>17756</th>\n      <td>194070860</td>\n      <td>https://inaturalist-open-data.s3.amazonaws.com...</td>\n      <td>Copa kabana</td>\n      <td>Arachnida</td>\n      <td>802683.0</td>\n    </tr>\n  </tbody>\n</table>\n<p>3516 rows × 5 columns</p>\n</div>"
     },
     "execution_count": 8,
     "metadata": {},
     "output_type": "execute_result"
    }
   ],
   "source": [
    "df_cropped = df[df['count'] >= 30]\n",
    "df_cropped = df_cropped.drop('count', axis=1)\n",
    "df_cropped"
   ],
   "metadata": {
    "collapsed": false,
    "ExecuteTime": {
     "end_time": "2023-12-22T14:27:48.597640300Z",
     "start_time": "2023-12-22T14:27:48.472056900Z"
    }
   },
   "id": "2d9d46c6f4872a1b"
  },
  {
   "cell_type": "code",
   "execution_count": 9,
   "outputs": [
    {
     "data": {
      "text/plain": "taxon_id\n623479.0     246\n155279.0     242\n534687.0     182\n48139.0      169\n1308421.0    128\n47535.0      112\n990338.0     106\n199976.0     101\n417879.0      99\n48766.0       97\n713952.0      82\n461087.0      73\n199167.0      70\n552252.0      67\n549017.0      65\n818759.0      64\n121774.0      62\n47416.0       58\n786966.0      58\n710359.0      57\n418954.0      54\n47866.0       52\n1399026.0     52\n713422.0      51\n806416.0      51\n831320.0      50\n47371.0       47\n802852.0      45\n47550.0       41\n196689.0      41\n504971.0      41\n636581.0      40\n557537.0      40\n510811.0      39\n420567.0      39\n513054.0      38\n153753.0      38\n830524.0      38\n47133.0       38\n557550.0      38\n802683.0      38\n791096.0      37\n83845.0       36\n788773.0      36\n420594.0      36\n825732.0      35\n533304.0      35\n904337.0      34\n633286.0      33\n419750.0      32\n68390.0       31\n420897.0      31\n1430099.0     31\n202191.0      30\n146765.0      30\nName: count, dtype: int64"
     },
     "execution_count": 9,
     "metadata": {},
     "output_type": "execute_result"
    }
   ],
   "source": [
    "df_cropped['taxon_id'].value_counts()"
   ],
   "metadata": {
    "collapsed": false,
    "ExecuteTime": {
     "end_time": "2023-12-22T14:27:48.597640300Z",
     "start_time": "2023-12-22T14:27:48.494276900Z"
    }
   },
   "id": "f9db42e05a3688f7"
  },
  {
   "cell_type": "code",
   "execution_count": 10,
   "outputs": [
    {
     "data": {
      "text/plain": "             id                                          image_url  \\\n0        947100  https://static.inaturalist.org/photos/1183569/...   \n1        950295  https://inaturalist-open-data.s3.amazonaws.com...   \n2        971611  https://inaturalist-open-data.s3.amazonaws.com...   \n3        974942  https://inaturalist-open-data.s3.amazonaws.com...   \n4        984573  https://inaturalist-open-data.s3.amazonaws.com...   \n...         ...                                                ...   \n3511  193571423  https://inaturalist-open-data.s3.amazonaws.com...   \n3512  193574177  https://inaturalist-open-data.s3.amazonaws.com...   \n3513  193574357  https://inaturalist-open-data.s3.amazonaws.com...   \n3514  193575175  https://inaturalist-open-data.s3.amazonaws.com...   \n3515  194070860  https://inaturalist-open-data.s3.amazonaws.com...   \n\n        scientific_name iconic_taxon_name   taxon_id  \n0     Zygiella x-notata         Arachnida   155279.0  \n1             Araneidae         Arachnida    47535.0  \n2              Clubiona         Arachnida   121774.0  \n3     Zygiella x-notata         Arachnida   155279.0  \n4     Zygiella x-notata         Arachnida   155279.0  \n...                 ...               ...        ...  \n3511              Salsa         Arachnida  1399026.0  \n3512          Sidymella         Arachnida   202191.0  \n3513            Badumna         Arachnida    47133.0  \n3514            Badumna         Arachnida    47133.0  \n3515        Copa kabana         Arachnida   802683.0  \n\n[3516 rows x 5 columns]",
      "text/html": "<div>\n<style scoped>\n    .dataframe tbody tr th:only-of-type {\n        vertical-align: middle;\n    }\n\n    .dataframe tbody tr th {\n        vertical-align: top;\n    }\n\n    .dataframe thead th {\n        text-align: right;\n    }\n</style>\n<table border=\"1\" class=\"dataframe\">\n  <thead>\n    <tr style=\"text-align: right;\">\n      <th></th>\n      <th>id</th>\n      <th>image_url</th>\n      <th>scientific_name</th>\n      <th>iconic_taxon_name</th>\n      <th>taxon_id</th>\n    </tr>\n  </thead>\n  <tbody>\n    <tr>\n      <th>0</th>\n      <td>947100</td>\n      <td>https://static.inaturalist.org/photos/1183569/...</td>\n      <td>Zygiella x-notata</td>\n      <td>Arachnida</td>\n      <td>155279.0</td>\n    </tr>\n    <tr>\n      <th>1</th>\n      <td>950295</td>\n      <td>https://inaturalist-open-data.s3.amazonaws.com...</td>\n      <td>Araneidae</td>\n      <td>Arachnida</td>\n      <td>47535.0</td>\n    </tr>\n    <tr>\n      <th>2</th>\n      <td>971611</td>\n      <td>https://inaturalist-open-data.s3.amazonaws.com...</td>\n      <td>Clubiona</td>\n      <td>Arachnida</td>\n      <td>121774.0</td>\n    </tr>\n    <tr>\n      <th>3</th>\n      <td>974942</td>\n      <td>https://inaturalist-open-data.s3.amazonaws.com...</td>\n      <td>Zygiella x-notata</td>\n      <td>Arachnida</td>\n      <td>155279.0</td>\n    </tr>\n    <tr>\n      <th>4</th>\n      <td>984573</td>\n      <td>https://inaturalist-open-data.s3.amazonaws.com...</td>\n      <td>Zygiella x-notata</td>\n      <td>Arachnida</td>\n      <td>155279.0</td>\n    </tr>\n    <tr>\n      <th>...</th>\n      <td>...</td>\n      <td>...</td>\n      <td>...</td>\n      <td>...</td>\n      <td>...</td>\n    </tr>\n    <tr>\n      <th>3511</th>\n      <td>193571423</td>\n      <td>https://inaturalist-open-data.s3.amazonaws.com...</td>\n      <td>Salsa</td>\n      <td>Arachnida</td>\n      <td>1399026.0</td>\n    </tr>\n    <tr>\n      <th>3512</th>\n      <td>193574177</td>\n      <td>https://inaturalist-open-data.s3.amazonaws.com...</td>\n      <td>Sidymella</td>\n      <td>Arachnida</td>\n      <td>202191.0</td>\n    </tr>\n    <tr>\n      <th>3513</th>\n      <td>193574357</td>\n      <td>https://inaturalist-open-data.s3.amazonaws.com...</td>\n      <td>Badumna</td>\n      <td>Arachnida</td>\n      <td>47133.0</td>\n    </tr>\n    <tr>\n      <th>3514</th>\n      <td>193575175</td>\n      <td>https://inaturalist-open-data.s3.amazonaws.com...</td>\n      <td>Badumna</td>\n      <td>Arachnida</td>\n      <td>47133.0</td>\n    </tr>\n    <tr>\n      <th>3515</th>\n      <td>194070860</td>\n      <td>https://inaturalist-open-data.s3.amazonaws.com...</td>\n      <td>Copa kabana</td>\n      <td>Arachnida</td>\n      <td>802683.0</td>\n    </tr>\n  </tbody>\n</table>\n<p>3516 rows × 5 columns</p>\n</div>"
     },
     "execution_count": 10,
     "metadata": {},
     "output_type": "execute_result"
    }
   ],
   "source": [
    "df_cropped = df_cropped.reset_index().drop('index', axis=1)\n",
    "df_cropped"
   ],
   "metadata": {
    "collapsed": false,
    "ExecuteTime": {
     "end_time": "2023-12-22T14:27:48.597640300Z",
     "start_time": "2023-12-22T14:27:48.502844500Z"
    }
   },
   "id": "5c6c0e096c2f814"
  },
  {
   "cell_type": "code",
   "execution_count": 11,
   "outputs": [
    {
     "data": {
      "text/plain": "             id                                          image_url  \\\n0        947100  https://static.inaturalist.org/photos/1183569/...   \n1        950295  https://inaturalist-open-data.s3.amazonaws.com...   \n2        971611  https://inaturalist-open-data.s3.amazonaws.com...   \n3        974942  https://inaturalist-open-data.s3.amazonaws.com...   \n4        984573  https://inaturalist-open-data.s3.amazonaws.com...   \n...         ...                                                ...   \n3511  193571423  https://inaturalist-open-data.s3.amazonaws.com...   \n3512  193574177  https://inaturalist-open-data.s3.amazonaws.com...   \n3513  193574357  https://inaturalist-open-data.s3.amazonaws.com...   \n3514  193575175  https://inaturalist-open-data.s3.amazonaws.com...   \n3515  194070860  https://inaturalist-open-data.s3.amazonaws.com...   \n\n        scientific_name iconic_taxon_name  taxon_id  \n0     Zygiella x-notata         Arachnida    155279  \n1             Araneidae         Arachnida     47535  \n2              Clubiona         Arachnida    121774  \n3     Zygiella x-notata         Arachnida    155279  \n4     Zygiella x-notata         Arachnida    155279  \n...                 ...               ...       ...  \n3511              Salsa         Arachnida   1399026  \n3512          Sidymella         Arachnida    202191  \n3513            Badumna         Arachnida     47133  \n3514            Badumna         Arachnida     47133  \n3515        Copa kabana         Arachnida    802683  \n\n[3516 rows x 5 columns]",
      "text/html": "<div>\n<style scoped>\n    .dataframe tbody tr th:only-of-type {\n        vertical-align: middle;\n    }\n\n    .dataframe tbody tr th {\n        vertical-align: top;\n    }\n\n    .dataframe thead th {\n        text-align: right;\n    }\n</style>\n<table border=\"1\" class=\"dataframe\">\n  <thead>\n    <tr style=\"text-align: right;\">\n      <th></th>\n      <th>id</th>\n      <th>image_url</th>\n      <th>scientific_name</th>\n      <th>iconic_taxon_name</th>\n      <th>taxon_id</th>\n    </tr>\n  </thead>\n  <tbody>\n    <tr>\n      <th>0</th>\n      <td>947100</td>\n      <td>https://static.inaturalist.org/photos/1183569/...</td>\n      <td>Zygiella x-notata</td>\n      <td>Arachnida</td>\n      <td>155279</td>\n    </tr>\n    <tr>\n      <th>1</th>\n      <td>950295</td>\n      <td>https://inaturalist-open-data.s3.amazonaws.com...</td>\n      <td>Araneidae</td>\n      <td>Arachnida</td>\n      <td>47535</td>\n    </tr>\n    <tr>\n      <th>2</th>\n      <td>971611</td>\n      <td>https://inaturalist-open-data.s3.amazonaws.com...</td>\n      <td>Clubiona</td>\n      <td>Arachnida</td>\n      <td>121774</td>\n    </tr>\n    <tr>\n      <th>3</th>\n      <td>974942</td>\n      <td>https://inaturalist-open-data.s3.amazonaws.com...</td>\n      <td>Zygiella x-notata</td>\n      <td>Arachnida</td>\n      <td>155279</td>\n    </tr>\n    <tr>\n      <th>4</th>\n      <td>984573</td>\n      <td>https://inaturalist-open-data.s3.amazonaws.com...</td>\n      <td>Zygiella x-notata</td>\n      <td>Arachnida</td>\n      <td>155279</td>\n    </tr>\n    <tr>\n      <th>...</th>\n      <td>...</td>\n      <td>...</td>\n      <td>...</td>\n      <td>...</td>\n      <td>...</td>\n    </tr>\n    <tr>\n      <th>3511</th>\n      <td>193571423</td>\n      <td>https://inaturalist-open-data.s3.amazonaws.com...</td>\n      <td>Salsa</td>\n      <td>Arachnida</td>\n      <td>1399026</td>\n    </tr>\n    <tr>\n      <th>3512</th>\n      <td>193574177</td>\n      <td>https://inaturalist-open-data.s3.amazonaws.com...</td>\n      <td>Sidymella</td>\n      <td>Arachnida</td>\n      <td>202191</td>\n    </tr>\n    <tr>\n      <th>3513</th>\n      <td>193574357</td>\n      <td>https://inaturalist-open-data.s3.amazonaws.com...</td>\n      <td>Badumna</td>\n      <td>Arachnida</td>\n      <td>47133</td>\n    </tr>\n    <tr>\n      <th>3514</th>\n      <td>193575175</td>\n      <td>https://inaturalist-open-data.s3.amazonaws.com...</td>\n      <td>Badumna</td>\n      <td>Arachnida</td>\n      <td>47133</td>\n    </tr>\n    <tr>\n      <th>3515</th>\n      <td>194070860</td>\n      <td>https://inaturalist-open-data.s3.amazonaws.com...</td>\n      <td>Copa kabana</td>\n      <td>Arachnida</td>\n      <td>802683</td>\n    </tr>\n  </tbody>\n</table>\n<p>3516 rows × 5 columns</p>\n</div>"
     },
     "execution_count": 11,
     "metadata": {},
     "output_type": "execute_result"
    }
   ],
   "source": [
    "df_cropped['taxon_id'] = df_cropped['taxon_id'].astype(int)\n",
    "df_cropped"
   ],
   "metadata": {
    "collapsed": false,
    "ExecuteTime": {
     "end_time": "2023-12-22T14:27:48.597640300Z",
     "start_time": "2023-12-22T14:27:48.518926800Z"
    }
   },
   "id": "4bd54bc48560fb3c"
  },
  {
   "cell_type": "markdown",
   "source": [],
   "metadata": {
    "collapsed": false
   },
   "id": "24fc06b3c49b14fd"
  },
  {
   "cell_type": "markdown",
   "source": [
    "### Загружаем фотки"
   ],
   "metadata": {
    "collapsed": false
   },
   "id": "3bd79298fa91f9e4"
  },
  {
   "cell_type": "code",
   "execution_count": 12,
   "outputs": [],
   "source": [
    "# import urllib.request\n",
    "# for i in range(2068, len(df_cropped)):\n",
    "#     urls = df_cropped['image_url']\n",
    "#     url = f'{urls[i]}'\n",
    "#     urllib.request.urlretrieve(url, f\"./images/{i}.png\")"
   ],
   "metadata": {
    "collapsed": false,
    "ExecuteTime": {
     "end_time": "2023-12-22T14:27:48.678927600Z",
     "start_time": "2023-12-22T14:27:48.534539800Z"
    }
   },
   "id": "e080396f562c969c"
  },
  {
   "cell_type": "code",
   "execution_count": 13,
   "outputs": [
    {
     "data": {
      "text/plain": "             id                                          image_url  \\\n0        947100  https://static.inaturalist.org/photos/1183569/...   \n1        950295  https://inaturalist-open-data.s3.amazonaws.com...   \n2        971611  https://inaturalist-open-data.s3.amazonaws.com...   \n3        974942  https://inaturalist-open-data.s3.amazonaws.com...   \n4        984573  https://inaturalist-open-data.s3.amazonaws.com...   \n...         ...                                                ...   \n3511  193571423  https://inaturalist-open-data.s3.amazonaws.com...   \n3512  193574177  https://inaturalist-open-data.s3.amazonaws.com...   \n3513  193574357  https://inaturalist-open-data.s3.amazonaws.com...   \n3514  193575175  https://inaturalist-open-data.s3.amazonaws.com...   \n3515  194070860  https://inaturalist-open-data.s3.amazonaws.com...   \n\n        scientific_name iconic_taxon_name  taxon_id  \n0     Zygiella x-notata         Arachnida    155279  \n1             Araneidae         Arachnida     47535  \n2              Clubiona         Arachnida    121774  \n3     Zygiella x-notata         Arachnida    155279  \n4     Zygiella x-notata         Arachnida    155279  \n...                 ...               ...       ...  \n3511              Salsa         Arachnida   1399026  \n3512          Sidymella         Arachnida    202191  \n3513            Badumna         Arachnida     47133  \n3514            Badumna         Arachnida     47133  \n3515        Copa kabana         Arachnida    802683  \n\n[3516 rows x 5 columns]",
      "text/html": "<div>\n<style scoped>\n    .dataframe tbody tr th:only-of-type {\n        vertical-align: middle;\n    }\n\n    .dataframe tbody tr th {\n        vertical-align: top;\n    }\n\n    .dataframe thead th {\n        text-align: right;\n    }\n</style>\n<table border=\"1\" class=\"dataframe\">\n  <thead>\n    <tr style=\"text-align: right;\">\n      <th></th>\n      <th>id</th>\n      <th>image_url</th>\n      <th>scientific_name</th>\n      <th>iconic_taxon_name</th>\n      <th>taxon_id</th>\n    </tr>\n  </thead>\n  <tbody>\n    <tr>\n      <th>0</th>\n      <td>947100</td>\n      <td>https://static.inaturalist.org/photos/1183569/...</td>\n      <td>Zygiella x-notata</td>\n      <td>Arachnida</td>\n      <td>155279</td>\n    </tr>\n    <tr>\n      <th>1</th>\n      <td>950295</td>\n      <td>https://inaturalist-open-data.s3.amazonaws.com...</td>\n      <td>Araneidae</td>\n      <td>Arachnida</td>\n      <td>47535</td>\n    </tr>\n    <tr>\n      <th>2</th>\n      <td>971611</td>\n      <td>https://inaturalist-open-data.s3.amazonaws.com...</td>\n      <td>Clubiona</td>\n      <td>Arachnida</td>\n      <td>121774</td>\n    </tr>\n    <tr>\n      <th>3</th>\n      <td>974942</td>\n      <td>https://inaturalist-open-data.s3.amazonaws.com...</td>\n      <td>Zygiella x-notata</td>\n      <td>Arachnida</td>\n      <td>155279</td>\n    </tr>\n    <tr>\n      <th>4</th>\n      <td>984573</td>\n      <td>https://inaturalist-open-data.s3.amazonaws.com...</td>\n      <td>Zygiella x-notata</td>\n      <td>Arachnida</td>\n      <td>155279</td>\n    </tr>\n    <tr>\n      <th>...</th>\n      <td>...</td>\n      <td>...</td>\n      <td>...</td>\n      <td>...</td>\n      <td>...</td>\n    </tr>\n    <tr>\n      <th>3511</th>\n      <td>193571423</td>\n      <td>https://inaturalist-open-data.s3.amazonaws.com...</td>\n      <td>Salsa</td>\n      <td>Arachnida</td>\n      <td>1399026</td>\n    </tr>\n    <tr>\n      <th>3512</th>\n      <td>193574177</td>\n      <td>https://inaturalist-open-data.s3.amazonaws.com...</td>\n      <td>Sidymella</td>\n      <td>Arachnida</td>\n      <td>202191</td>\n    </tr>\n    <tr>\n      <th>3513</th>\n      <td>193574357</td>\n      <td>https://inaturalist-open-data.s3.amazonaws.com...</td>\n      <td>Badumna</td>\n      <td>Arachnida</td>\n      <td>47133</td>\n    </tr>\n    <tr>\n      <th>3514</th>\n      <td>193575175</td>\n      <td>https://inaturalist-open-data.s3.amazonaws.com...</td>\n      <td>Badumna</td>\n      <td>Arachnida</td>\n      <td>47133</td>\n    </tr>\n    <tr>\n      <th>3515</th>\n      <td>194070860</td>\n      <td>https://inaturalist-open-data.s3.amazonaws.com...</td>\n      <td>Copa kabana</td>\n      <td>Arachnida</td>\n      <td>802683</td>\n    </tr>\n  </tbody>\n</table>\n<p>3516 rows × 5 columns</p>\n</div>"
     },
     "execution_count": 13,
     "metadata": {},
     "output_type": "execute_result"
    }
   ],
   "source": [
    "df_cropped"
   ],
   "metadata": {
    "collapsed": false,
    "ExecuteTime": {
     "end_time": "2023-12-22T14:27:48.678927600Z",
     "start_time": "2023-12-22T14:27:48.535045400Z"
    }
   },
   "id": "90e3e72afbc017d0"
  },
  {
   "cell_type": "markdown",
   "source": [
    "### Далее делаем датасет с лейблами, он будет содержать имя картинки и закодированный id таксона"
   ],
   "metadata": {
    "collapsed": false
   },
   "id": "b3fdb3dca15c0206"
  },
  {
   "cell_type": "code",
   "execution_count": 14,
   "outputs": [
    {
     "name": "stderr",
     "output_type": "stream",
     "text": [
      "C:\\Users\\tosha\\AppData\\Local\\Temp\\ipykernel_3944\\3744849125.py:2: SettingWithCopyWarning: \n",
      "A value is trying to be set on a copy of a slice from a DataFrame.\n",
      "Try using .loc[row_indexer,col_indexer] = value instead\n",
      "\n",
      "See the caveats in the documentation: https://pandas.pydata.org/pandas-docs/stable/user_guide/indexing.html#returning-a-view-versus-a-copy\n",
      "  df_labels['class id'], class_mapping = pd.factorize(df_labels['taxon_id'])\n"
     ]
    }
   ],
   "source": [
    "df_labels = df_cropped[['taxon_id']]\n",
    "df_labels['class id'], class_mapping = pd.factorize(df_labels['taxon_id'])"
   ],
   "metadata": {
    "collapsed": false,
    "ExecuteTime": {
     "end_time": "2023-12-22T14:27:48.678927600Z",
     "start_time": "2023-12-22T14:27:48.550423400Z"
    }
   },
   "id": "f63b10b9355f11ea"
  },
  {
   "cell_type": "code",
   "execution_count": 15,
   "outputs": [
    {
     "name": "stderr",
     "output_type": "stream",
     "text": [
      "C:\\Users\\tosha\\AppData\\Local\\Temp\\ipykernel_3944\\2632664304.py:1: SettingWithCopyWarning: \n",
      "A value is trying to be set on a copy of a slice from a DataFrame.\n",
      "Try using .loc[row_indexer,col_indexer] = value instead\n",
      "\n",
      "See the caveats in the documentation: https://pandas.pydata.org/pandas-docs/stable/user_guide/indexing.html#returning-a-view-versus-a-copy\n",
      "  df_labels['image path'] = df_labels.index\n"
     ]
    },
    {
     "data": {
      "text/plain": "      taxon_id  class id  image path\n0       155279         0           0\n1        47535         1           1\n2       121774         2           2\n3       155279         0           3\n4       155279         0           4\n...        ...       ...         ...\n3511   1399026        52        3511\n3512    202191        24        3512\n3513     47133        36        3513\n3514     47133        36        3514\n3515    802683        20        3515\n\n[3516 rows x 3 columns]",
      "text/html": "<div>\n<style scoped>\n    .dataframe tbody tr th:only-of-type {\n        vertical-align: middle;\n    }\n\n    .dataframe tbody tr th {\n        vertical-align: top;\n    }\n\n    .dataframe thead th {\n        text-align: right;\n    }\n</style>\n<table border=\"1\" class=\"dataframe\">\n  <thead>\n    <tr style=\"text-align: right;\">\n      <th></th>\n      <th>taxon_id</th>\n      <th>class id</th>\n      <th>image path</th>\n    </tr>\n  </thead>\n  <tbody>\n    <tr>\n      <th>0</th>\n      <td>155279</td>\n      <td>0</td>\n      <td>0</td>\n    </tr>\n    <tr>\n      <th>1</th>\n      <td>47535</td>\n      <td>1</td>\n      <td>1</td>\n    </tr>\n    <tr>\n      <th>2</th>\n      <td>121774</td>\n      <td>2</td>\n      <td>2</td>\n    </tr>\n    <tr>\n      <th>3</th>\n      <td>155279</td>\n      <td>0</td>\n      <td>3</td>\n    </tr>\n    <tr>\n      <th>4</th>\n      <td>155279</td>\n      <td>0</td>\n      <td>4</td>\n    </tr>\n    <tr>\n      <th>...</th>\n      <td>...</td>\n      <td>...</td>\n      <td>...</td>\n    </tr>\n    <tr>\n      <th>3511</th>\n      <td>1399026</td>\n      <td>52</td>\n      <td>3511</td>\n    </tr>\n    <tr>\n      <th>3512</th>\n      <td>202191</td>\n      <td>24</td>\n      <td>3512</td>\n    </tr>\n    <tr>\n      <th>3513</th>\n      <td>47133</td>\n      <td>36</td>\n      <td>3513</td>\n    </tr>\n    <tr>\n      <th>3514</th>\n      <td>47133</td>\n      <td>36</td>\n      <td>3514</td>\n    </tr>\n    <tr>\n      <th>3515</th>\n      <td>802683</td>\n      <td>20</td>\n      <td>3515</td>\n    </tr>\n  </tbody>\n</table>\n<p>3516 rows × 3 columns</p>\n</div>"
     },
     "execution_count": 15,
     "metadata": {},
     "output_type": "execute_result"
    }
   ],
   "source": [
    "df_labels['image path'] = df_labels.index\n",
    "df_labels"
   ],
   "metadata": {
    "collapsed": false,
    "ExecuteTime": {
     "end_time": "2023-12-22T14:27:48.678927600Z",
     "start_time": "2023-12-22T14:27:48.561116200Z"
    }
   },
   "id": "3e7565c7ddc50930"
  },
  {
   "cell_type": "code",
   "execution_count": 16,
   "outputs": [
    {
     "name": "stderr",
     "output_type": "stream",
     "text": [
      "C:\\Users\\tosha\\AppData\\Local\\Temp\\ipykernel_3944\\1333850047.py:1: SettingWithCopyWarning: \n",
      "A value is trying to be set on a copy of a slice from a DataFrame.\n",
      "Try using .loc[row_indexer,col_indexer] = value instead\n",
      "\n",
      "See the caveats in the documentation: https://pandas.pydata.org/pandas-docs/stable/user_guide/indexing.html#returning-a-view-versus-a-copy\n",
      "  df_labels['image path'] = df_labels['image path'].astype(str) + '.png'\n"
     ]
    },
    {
     "data": {
      "text/plain": "      taxon_id  class id image path\n0       155279         0      0.png\n1        47535         1      1.png\n2       121774         2      2.png\n3       155279         0      3.png\n4       155279         0      4.png\n...        ...       ...        ...\n3511   1399026        52   3511.png\n3512    202191        24   3512.png\n3513     47133        36   3513.png\n3514     47133        36   3514.png\n3515    802683        20   3515.png\n\n[3516 rows x 3 columns]",
      "text/html": "<div>\n<style scoped>\n    .dataframe tbody tr th:only-of-type {\n        vertical-align: middle;\n    }\n\n    .dataframe tbody tr th {\n        vertical-align: top;\n    }\n\n    .dataframe thead th {\n        text-align: right;\n    }\n</style>\n<table border=\"1\" class=\"dataframe\">\n  <thead>\n    <tr style=\"text-align: right;\">\n      <th></th>\n      <th>taxon_id</th>\n      <th>class id</th>\n      <th>image path</th>\n    </tr>\n  </thead>\n  <tbody>\n    <tr>\n      <th>0</th>\n      <td>155279</td>\n      <td>0</td>\n      <td>0.png</td>\n    </tr>\n    <tr>\n      <th>1</th>\n      <td>47535</td>\n      <td>1</td>\n      <td>1.png</td>\n    </tr>\n    <tr>\n      <th>2</th>\n      <td>121774</td>\n      <td>2</td>\n      <td>2.png</td>\n    </tr>\n    <tr>\n      <th>3</th>\n      <td>155279</td>\n      <td>0</td>\n      <td>3.png</td>\n    </tr>\n    <tr>\n      <th>4</th>\n      <td>155279</td>\n      <td>0</td>\n      <td>4.png</td>\n    </tr>\n    <tr>\n      <th>...</th>\n      <td>...</td>\n      <td>...</td>\n      <td>...</td>\n    </tr>\n    <tr>\n      <th>3511</th>\n      <td>1399026</td>\n      <td>52</td>\n      <td>3511.png</td>\n    </tr>\n    <tr>\n      <th>3512</th>\n      <td>202191</td>\n      <td>24</td>\n      <td>3512.png</td>\n    </tr>\n    <tr>\n      <th>3513</th>\n      <td>47133</td>\n      <td>36</td>\n      <td>3513.png</td>\n    </tr>\n    <tr>\n      <th>3514</th>\n      <td>47133</td>\n      <td>36</td>\n      <td>3514.png</td>\n    </tr>\n    <tr>\n      <th>3515</th>\n      <td>802683</td>\n      <td>20</td>\n      <td>3515.png</td>\n    </tr>\n  </tbody>\n</table>\n<p>3516 rows × 3 columns</p>\n</div>"
     },
     "execution_count": 16,
     "metadata": {},
     "output_type": "execute_result"
    }
   ],
   "source": [
    "df_labels['image path'] = df_labels['image path'].astype(str) + '.png'\n",
    "df_labels"
   ],
   "metadata": {
    "collapsed": false,
    "ExecuteTime": {
     "end_time": "2023-12-22T14:27:48.694436600Z",
     "start_time": "2023-12-22T14:27:48.581869Z"
    }
   },
   "id": "b2220bd5aef19899"
  },
  {
   "cell_type": "code",
   "execution_count": 17,
   "outputs": [],
   "source": [
    "df_labels[['image path', 'class id']].to_csv('ordered_labels_paths.csv', index=False)"
   ],
   "metadata": {
    "collapsed": false,
    "ExecuteTime": {
     "end_time": "2023-12-22T14:27:48.710072100Z",
     "start_time": "2023-12-22T14:27:48.597640300Z"
    }
   },
   "id": "f182d30725f9bea8"
  },
  {
   "cell_type": "markdown",
   "source": [
    "### Имеем 55 классов (от 0 до 55)"
   ],
   "metadata": {
    "collapsed": false
   },
   "id": "d41e936f5751bc59"
  },
  {
   "cell_type": "code",
   "execution_count": 18,
   "outputs": [
    {
     "data": {
      "text/plain": "54"
     },
     "execution_count": 18,
     "metadata": {},
     "output_type": "execute_result"
    }
   ],
   "source": [
    "max(df_labels['class id'])"
   ],
   "metadata": {
    "collapsed": false,
    "ExecuteTime": {
     "end_time": "2023-12-22T14:27:48.710072100Z",
     "start_time": "2023-12-22T14:27:48.605343200Z"
    }
   },
   "id": "1d66e5e6c87aefe7"
  },
  {
   "cell_type": "markdown",
   "source": [
    "### Расшифровка классов"
   ],
   "metadata": {
    "collapsed": false
   },
   "id": "b51474ba86ef36bf"
  },
  {
   "cell_type": "code",
   "execution_count": 27,
   "outputs": [
    {
     "data": {
      "text/plain": "['Zygiella x-notata',\n 'Araneidae',\n 'Clubiona',\n 'Theridiidae',\n 'Socca pustulosa',\n 'Dolophones',\n 'Latrodectus hasselti',\n 'Laetesia raveni',\n 'Clynotis severus',\n 'Nephila pilipes',\n 'Tamopsis brisbanensis',\n 'Trichonephila edulis',\n 'Servaea',\n 'Tetragnatha',\n 'Thomisidae',\n 'Hortophora',\n 'Lycosidae',\n 'Plebs eburnus',\n 'Helpis minitabunda',\n 'Salticidae',\n 'Copa kabana',\n 'Araneinae',\n 'Austracantha minax',\n 'Opisthoncus',\n 'Sidymella',\n 'Namandia',\n 'Arkys curtulus',\n 'Arkys alatus',\n 'Australomisidia',\n 'Thwaitesia nigronodosa',\n 'Paraphilaeus daemeli',\n 'Megadolomedes trux',\n 'Astilodes mariae',\n 'Telaprocera maudae',\n 'Tamopsis fickerti',\n 'Tamopsis tweedensis',\n 'Badumna',\n 'Servaea villosa',\n 'Euryopis',\n 'Toxopsoides erici',\n 'Oxyopes',\n 'Opisthoncus quadratarius',\n 'Heteropoda',\n 'Pungalina',\n 'Stephanopis carcinoides',\n 'Stephanopis barbipes',\n 'Sidymella rubrosignata',\n 'Stephanopis altifrons',\n 'Helpis kenilworthi',\n 'Menneus aussie',\n 'Janula bicornis',\n 'Tharrhalea',\n 'Salsa',\n 'Maratus griseus',\n 'Tamopsis brachycauda']"
     },
     "execution_count": 27,
     "metadata": {},
     "output_type": "execute_result"
    }
   ],
   "source": [
    "classes = []\n",
    "id_s = df_labels['taxon_id'].unique()\n",
    "for id in id_s:\n",
    "    classes.append(df[df['taxon_id'] == id]['scientific_name'].iloc[0])\n",
    "classes"
   ],
   "metadata": {
    "collapsed": false,
    "ExecuteTime": {
     "end_time": "2023-12-22T14:30:27.436613200Z",
     "start_time": "2023-12-22T14:30:27.378150300Z"
    }
   },
   "id": "56a8c6506da748dc"
  },
  {
   "cell_type": "code",
   "execution_count": 28,
   "outputs": [
    {
     "data": {
      "text/plain": "scientific_name\nArkys alatus                246\nZygiella x-notata           242\nTamopsis brisbanensis       182\nSalticidae                  169\nHortophora                  128\nAraneidae                   112\nStephanopis carcinoides     106\nOpisthoncus                 101\nAraneinae                    99\nHeteropoda                   97\nTamopsis tweedensis          82\nServaea villosa              73\nHelpis minitabunda           70\nPlebs eburnus                67\nThwaitesia nigronodosa       65\nMegadolomedes trux           64\nClubiona                     62\nLycosidae                    58\nLaetesia raveni              58\nTelaprocera maudae           57\nDolophones                   54\nThomisidae                   52\nSalsa                        52\nStephanopis altifrons        51\nMenneus aussie               51\nMaratus griseus              50\nTheridiidae                  47\nJanula bicornis              45\nTetragnatha                  41\nAustracantha minax           41\nArkys curtulus               41\nOpisthoncus quadratarius     40\nAstilodes mariae             40\nClynotis severus             39\nPungalina                    39\nSidymella rubrosignata       38\nEuryopis                     38\nTamopsis brachycauda         38\nBadumna                      38\nTamopsis fickerti            38\nCopa kabana                  38\nStephanopis barbipes         37\nOxyopes                      36\nToxopsoides erici            36\nServaea                      36\nHelpis kenilworthi           35\nAustralomisidia              35\nTrichonephila edulis         34\nParaphilaeus daemeli         33\nNamandia                     32\nNephila pilipes              31\nTharrhalea                   31\nSocca pustulosa              31\nSidymella                    30\nLatrodectus hasselti         30\nName: count, dtype: int64"
     },
     "execution_count": 28,
     "metadata": {},
     "output_type": "execute_result"
    }
   ],
   "source": [
    "df_cropped['scientific_name'].value_counts()"
   ],
   "metadata": {
    "collapsed": false,
    "ExecuteTime": {
     "end_time": "2023-12-22T14:32:30.217170800Z",
     "start_time": "2023-12-22T14:32:30.191827300Z"
    }
   },
   "id": "f0c67c94c6e042d3"
  },
  {
   "cell_type": "code",
   "execution_count": null,
   "outputs": [],
   "source": [],
   "metadata": {
    "collapsed": false
   },
   "id": "44d2fa8c84e736d8"
  }
 ],
 "metadata": {
  "kernelspec": {
   "display_name": "Python 3",
   "language": "python",
   "name": "python3"
  },
  "language_info": {
   "codemirror_mode": {
    "name": "ipython",
    "version": 2
   },
   "file_extension": ".py",
   "mimetype": "text/x-python",
   "name": "python",
   "nbconvert_exporter": "python",
   "pygments_lexer": "ipython2",
   "version": "2.7.6"
  }
 },
 "nbformat": 4,
 "nbformat_minor": 5
}
